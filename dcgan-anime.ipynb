{
 "metadata": {
  "kernelspec": {
   "language": "python",
   "display_name": "Python 3",
   "name": "python3"
  },
  "language_info": {
   "pygments_lexer": "ipython3",
   "nbconvert_exporter": "python",
   "version": "3.6.4",
   "file_extension": ".py",
   "codemirror_mode": {
    "name": "ipython",
    "version": 3
   },
   "name": "python",
   "mimetype": "text/x-python"
  }
 },
 "nbformat_minor": 4,
 "nbformat": 4,
 "cells": [
  {
   "cell_type": "code",
   "execution_count": null,
   "outputs": [],
   "source": [
    "import torch as th\n",
    "import torchvision\n",
    "from torch.utils.data import DataLoader\n",
    "\n",
    "from models import Generator, Discriminator\n",
    "from utils import weights_init\n",
    "from experiments import Experiment\n",
    "\n",
    "config = {\n",
    "    # environment\n",
    "    'environment': 'kaggle',\n",
    "    'local_results_directory': '/kaggle/working/generator_results/',\n",
    "    'experiment_name': 'v1',\n",
    "    'data_directory': '/kaggle/input/faces-gan/faces',\n",
    "    'evaluation': True,\n",
    "    'num_workers': 8,\n",
    "    # network\n",
    "    'noise_size': 100,\n",
    "    'discriminator_feature_map_depth': 64,\n",
    "    'generator_feature_map_depth': 64,\n",
    "    # training\n",
    "    'save_checkpoint_every': 10,\n",
    "    'save_image_every': 10,\n",
    "    'batch_size': 128,\n",
    "    'epochs': 1000,\n",
    "    'discriminator_lr': 0.002,\n",
    "    'discriminator_betas': (0.5, 0.999),\n",
    "    'generator_lr': 0.002,\n",
    "    'generator_betas': (0.5, 0.999),\n",
    "    'true_label_value': 1,\n",
    "    'fake_label_value': 0,\n",
    "}\n",
    "\n",
    "# create device\n",
    "device = th.device('cuda' if th.cuda.is_available() else 'cpu')\n",
    "# create dataset\n",
    "transform = torchvision.transforms.Compose([\n",
    "        torchvision.transforms.ToTensor(),\n",
    "    ])\n",
    "dataset = torchvision.datasets.ImageFolder(config['data_directory'], transform=transform)\n",
    "dataloader = DataLoader(dataset, batch_size=config['batch_size'], shuffle=True, num_workers=config['num_workers'])\n",
    "# create networks\n",
    "generator = Generator(\n",
    "    config['noise_size'],\n",
    "    config['generator_feature_map_depth']\n",
    ").to(device)\n",
    "generator.apply(weights_init)\n",
    "discriminator = Discriminator(\n",
    "    config['discriminator_feature_map_depth']\n",
    ").to(device)\n",
    "discriminator.apply(weights_init)\n",
    "# create optimizers\n",
    "discriminator_optimizer = th.optim.Adam(discriminator.parameters(), lr=config['discriminator_lr'], betas=config['discriminator_betas'])\n",
    "generator_optimizer = th.optim.Adam(generator.parameters(), lr=config['generator_lr'], betas=config['generator_betas'])\n",
    "# create loss\n",
    "criterion = th.nn.BCELoss()\n",
    "# create experiment\n",
    "experiment = Experiment(config, \n",
    "                        generator, \n",
    "                        discriminator, \n",
    "                        generator_optimizer,\n",
    "                        discriminator_optimizer, \n",
    "                        criterion, \n",
    "                        dataloader)\n",
    "experiment.train()"
   ],
   "metadata": {
    "collapsed": false,
    "pycharm": {
     "name": "#%%\n"
    }
   }
  }
 ]
}