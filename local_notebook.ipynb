{
 "cells": [
  {
   "cell_type": "markdown",
   "metadata": {},
   "source": [
    "Add github source as a path to be accessed by kaggle"
   ]
  },
  {
   "cell_type": "code",
   "execution_count": null,
   "metadata": {
    "execution": {
     "iopub.execute_input": "2022-05-12T09:57:57.277844Z",
     "iopub.status.busy": "2022-05-12T09:57:57.277234Z",
     "iopub.status.idle": "2022-05-12T09:57:57.282584Z",
     "shell.execute_reply": "2022-05-12T09:57:57.281778Z",
     "shell.execute_reply.started": "2022-05-12T09:57:57.277809Z"
    },
    "trusted": true
   },
   "outputs": [],
   "source": [
    "import os"
   ]
  },
  {
   "cell_type": "markdown",
   "metadata": {
    "collapsed": false
   },
   "source": [
    "Specifying which model to train & evaluate"
   ]
  },
  {
   "cell_type": "code",
   "execution_count": null,
   "metadata": {
    "collapsed": false,
    "pycharm": {
     "name": "#%%\n"
    }
   },
   "outputs": [],
   "source": [
    "model_to_train = 'dcgan'\n",
    "# model_to_train = 'dcgan-data-aug'\n",
    "# model_to_train = 'wgan'\n",
    "# model_to_train = 'wgan-gp'\n",
    "# model_to_train = 'wgan-gp-data-aug'\n"
   ]
  },
  {
   "cell_type": "markdown",
   "metadata": {
    "collapsed": false
   },
   "source": [
    "Configurations specific to run"
   ]
  },
  {
   "cell_type": "code",
   "execution_count": null,
   "metadata": {
    "collapsed": false,
    "pycharm": {
     "name": "#%%\n"
    }
   },
   "outputs": [],
   "source": [
    "config = {\n",
    "    # environment\n",
    "    'environment': 'local',\n",
    "    'local_results_directory': './results',\n",
    "    'experiment_name': 'v1.5',\n",
    "    'data_directory': './data/faces_reduced',\n",
    "    'evaluation': True,\n",
    "    'num_workers': 0,\n",
    "\n",
    "    # network\n",
    "    'noise_size': 100,\n",
    "    'noise_type': 'normal', # uniform / normal\n",
    "    'discriminator_feature_map_depth': 64,\n",
    "    'generator_feature_map_depth': 64,\n",
    "\n",
    "    # training\n",
    "    'save_checkpoint_every': 10,\n",
    "    'save_image_every': 10,\n",
    "    'save_metrics_every': 10,\n",
    "    'batch_size': 64,\n",
    "    'epochs': 20,\n",
    "    'discriminator_lr': 0.002,\n",
    "    'discriminator_betas': (0.5, 0.999),\n",
    "    'generator_lr': 0.002,\n",
    "    'generator_betas': (0.5, 0.999),\n",
    "    'true_label_value': 1,\n",
    "    'fake_label_value': 0,\n",
    "\n",
    "    # model\n",
    "    'model_name': model_to_train,\n",
    "\n",
    "    # model specific settings\n",
    "    # wgan settings\n",
    "    'weight_clip': 0.1,\n",
    "\n",
    "    # wgan-gp settings\n",
    "    'critic_iterations': 5,\n",
    "    'lambda_gp': 10,\n",
    "    'wgan_gp_lr': 1e-4,\n",
    "    'wgan_gp_betas': (0.0, 0.9)\n",
    "\n",
    "}\n",
    "\n",
    "# create paths\n",
    "if not os.path.isdir(config['local_results_directory']):\n",
    "    os.mkdir(config['local_results_directory'])\n"
   ]
  },
  {
   "cell_type": "markdown",
   "metadata": {
    "collapsed": false
   },
   "source": [
    "Executing based on the configurations"
   ]
  },
  {
   "cell_type": "code",
   "execution_count": null,
   "metadata": {
    "pycharm": {
     "name": "#%%\n"
    }
   },
   "outputs": [],
   "source": [
    "import torch as th\n",
    "import torchvision\n",
    "from torch.utils.data import DataLoader\n",
    "\n",
    "from models import Generator, Discriminator\n",
    "import models_wgan.wgan_gp as wgan_gp\n",
    "from utils import weights_init\n",
    "from experiments import Experiment\n",
    "\n",
    "# create device\n",
    "device = th.device('cuda' if th.cuda.is_available() else 'cpu')\n",
    "\n",
    "# create dataset\n",
    "transform = torchvision.transforms.Compose([torchvision.transforms.ToTensor(),])\n",
    "dataset = torchvision.datasets.ImageFolder(config['data_directory'], transform=transform)\n",
    "dataloader = DataLoader(dataset, batch_size=config['batch_size'], shuffle=True, num_workers=config['num_workers'])\n",
    "\n",
    "if config['model_name'] == 'dcgan':\n",
    "    # create networks\n",
    "    generator = Generator(config['noise_size'],config['generator_feature_map_depth']).to(device)\n",
    "    discriminator = Discriminator(config['discriminator_feature_map_depth']).to(device)\n",
    "    generator.apply(weights_init)\n",
    "    discriminator.apply(weights_init)\n",
    "\n",
    "    # create optimizers\n",
    "    discriminator_optimizer = th.optim.Adam(discriminator.parameters(), lr=config['discriminator_lr'], betas=config['discriminator_betas'])\n",
    "    generator_optimizer = th.optim.Adam(generator.parameters(), lr=config['generator_lr'], betas=config['generator_betas'])\n",
    "\n",
    "    # create loss\n",
    "    criterion = th.nn.BCELoss()\n",
    "    # create experiment\n",
    "    experiment = Experiment(config, generator, discriminator, generator_optimizer, discriminator_optimizer, criterion, dataloader)\n",
    "    print('Training dcgan')\n",
    "    experiment.train()\n",
    "\n",
    "\n",
    "# elif config['model_name'] == 'dcgan-data-aug':\n",
    "#\n",
    "# elif config['model_name'] == 'wgan':\n",
    "#\n",
    "elif config['model_name'] == 'wgan-gp':\n",
    "    # create networks\n",
    "    generator = wgan_gp.Generator(config[\"noise_size\"], config[\"generator_feature_map_depth\"]).to(device)\n",
    "    critic = wgan_gp.Critic(config[\"discriminator_feature_map_depth\"]).to(device)\n",
    "    generator.apply(weights_init)\n",
    "    critic.apply(weights_init)\n",
    "\n",
    "    # create optimizers\n",
    "    # Optimizer (WGAN uses RMSprop, WGAN-GP uses Adam)\n",
    "    critic_optimizer = th.optim.Adam(critic.parameters(), lr=config[\"wgan_gp_lr\"], betas=config[\"wgan_gp_betas\"])\n",
    "    generator_optimizer = th.optim.Adam(generator.parameters(), lr=config[\"wgan_gp_lr\"], betas=config[\"wgan_gp_betas\"])\n",
    "\n",
    "    generator.train()\n",
    "    critic.train()\n",
    "    criterion = None\n",
    "\n",
    "    experiment = wgan_gp.Training(generator, critic, generator_optimizer, critic_optimizer, device, dataloader, config)\n",
    "    experiment.train()\n",
    "\n",
    "# elif config['model_name'] == 'wgan-gp-data-aug':\n",
    "\n",
    "\n"
   ]
  }
 ],
 "metadata": {
  "interpreter": {
   "hash": "17f5ea6f44959d3e14a0023402df6111059cc6a22e6f41b4a22d1b177e49012d"
  },
  "kernelspec": {
   "display_name": "Python 3.9.6 ('venv': venv)",
   "language": "python",
   "name": "python3"
  },
  "language_info": {
   "codemirror_mode": {
    "name": "ipython",
    "version": 3
   },
   "file_extension": ".py",
   "mimetype": "text/x-python",
   "name": "python",
   "nbconvert_exporter": "python",
   "pygments_lexer": "ipython3",
   "version": "3.9.6"
  }
 },
 "nbformat": 4,
 "nbformat_minor": 4
}
