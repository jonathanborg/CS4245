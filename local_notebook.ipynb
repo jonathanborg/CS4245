{
 "cells": [
  {
   "cell_type": "markdown",
   "metadata": {},
   "source": [
    "Add github source as a path to be accessed by kaggle"
   ]
  },
  {
   "cell_type": "code",
   "execution_count": 1,
   "metadata": {
    "execution": {
     "iopub.execute_input": "2022-05-12T09:57:57.277844Z",
     "iopub.status.busy": "2022-05-12T09:57:57.277234Z",
     "iopub.status.idle": "2022-05-12T09:57:57.282584Z",
     "shell.execute_reply": "2022-05-12T09:57:57.281778Z",
     "shell.execute_reply.started": "2022-05-12T09:57:57.277809Z"
    },
    "trusted": true
   },
   "outputs": [],
   "source": [
    "import os"
   ]
  },
  {
   "cell_type": "markdown",
   "metadata": {
    "collapsed": false
   },
   "source": [
    "Specifying which model to train & evaluate"
   ]
  },
  {
   "cell_type": "code",
   "execution_count": 2,
   "metadata": {
    "collapsed": false,
    "pycharm": {
     "name": "#%%\n"
    }
   },
   "outputs": [],
   "source": [
    "model_to_train = 'dcgan'\n",
    "# model_to_train = 'wgan-gp'\n"
   ]
  },
  {
   "cell_type": "markdown",
   "metadata": {
    "collapsed": false
   },
   "source": [
    "Configurations specific to run"
   ]
  },
  {
   "cell_type": "code",
   "execution_count": 3,
   "metadata": {
    "collapsed": false,
    "pycharm": {
     "name": "#%%\n"
    }
   },
   "outputs": [],
   "source": [
    "config = {\n",
    "    # environment\n",
    "    'environment': 'local',\n",
    "    'local_results_directory': './results',\n",
    "    'experiment_name': 'v1.5',\n",
    "    'data_directory': './data/faces_reduced',\n",
    "    'evaluation': True,\n",
    "    'num_workers': 0,\n",
    "\n",
    "    # network\n",
    "    'noise_size': 100,\n",
    "    'noise_type': 'normal', # uniform / normal\n",
    "    'discriminator_feature_map_depth': 64,\n",
    "    'generator_feature_map_depth': 64,\n",
    "\n",
    "    # training\n",
    "    'save_checkpoint_every': 10,\n",
    "    'save_image_every': 10,\n",
    "    'save_metrics_every': 10,\n",
    "    'batch_size': 64,\n",
    "    'epochs': 20,\n",
    "    'discriminator_lr': 0.002,\n",
    "    'discriminator_betas': (0.5, 0.999),\n",
    "    'generator_lr': 0.002,\n",
    "    'generator_betas': (0.5, 0.999),\n",
    "    'true_label_value': 1,\n",
    "    'fake_label_value': 0,\n",
    "\n",
    "    # model\n",
    "    'model_name': model_to_train,\n",
    "\n",
    "    # model specific settings\n",
    "    # wgan settings\n",
    "    'weight_clip': 0.1,\n",
    "\n",
    "    # wgan-gp settings\n",
    "    'critic_iterations': 5,\n",
    "    'lambda_gp': 10,\n",
    "    'wgan_gp_lr': 1e-4,\n",
    "    'wgan_gp_betas': (0.0, 0.9)\n",
    "\n",
    "}\n",
    "\n",
    "# create paths\n",
    "if not os.path.isdir(config['local_results_directory']):\n",
    "    os.mkdir(config['local_results_directory'])\n"
   ]
  },
  {
   "cell_type": "markdown",
   "metadata": {
    "collapsed": false
   },
   "source": [
    "Executing based on the configurations"
   ]
  },
  {
   "cell_type": "code",
   "execution_count": 4,
   "metadata": {
    "pycharm": {
     "name": "#%%\n"
    }
   },
   "outputs": [
    {
     "name": "stderr",
     "output_type": "stream",
     "text": [
      "/Users/fransdeboer/Projects/CS4245/venv/lib/python3.9/site-packages/tqdm/auto.py:22: TqdmWarning: IProgress not found. Please update jupyter and ipywidgets. See https://ipywidgets.readthedocs.io/en/stable/user_install.html\n",
      "  from .autonotebook import tqdm as notebook_tqdm\n"
     ]
    },
    {
     "name": "stdout",
     "output_type": "stream",
     "text": [
      "EPOCH:  0\n",
      "1/20: FID: 0.0001510607423968799\tLoss_G: 0.0000\tReal_Loss_D: 0.0000\tFake_Loss_D: 0.0000\tAccuracy_G: 0.0000\tReal_Accuracy_D: 0.3333\tFake_Accuracy_D: 0.7619\n",
      "-> Saving model checkpoint\n"
     ]
    },
    {
     "ename": "FileNotFoundError",
     "evalue": "[Errno 2] No such file or directory: './results/v1.5/0'",
     "output_type": "error",
     "traceback": [
      "\u001b[0;31m---------------------------------------------------------------------------\u001b[0m",
      "\u001b[0;31mFileNotFoundError\u001b[0m                         Traceback (most recent call last)",
      "\u001b[1;32m/Users/fransdeboer/Projects/CS4245/local_notebook.ipynb Cell 8'\u001b[0m in \u001b[0;36m<cell line: 18>\u001b[0;34m()\u001b[0m\n\u001b[1;32m     <a href='vscode-notebook-cell:/Users/fransdeboer/Projects/CS4245/local_notebook.ipynb#ch0000011?line=54'>55</a>\u001b[0m criterion \u001b[39m=\u001b[39m \u001b[39mNone\u001b[39;00m\n\u001b[1;32m     <a href='vscode-notebook-cell:/Users/fransdeboer/Projects/CS4245/local_notebook.ipynb#ch0000011?line=56'>57</a>\u001b[0m experiment \u001b[39m=\u001b[39m wgan_gp\u001b[39m.\u001b[39mTraining(generator, critic, generator_optimizer, critic_optimizer, device, dataloader, config)\n\u001b[0;32m---> <a href='vscode-notebook-cell:/Users/fransdeboer/Projects/CS4245/local_notebook.ipynb#ch0000011?line=57'>58</a>\u001b[0m experiment\u001b[39m.\u001b[39;49mtrain()\n",
      "File \u001b[0;32m~/Projects/CS4245/models_wgan/wgan_gp.py:266\u001b[0m, in \u001b[0;36mTraining.train\u001b[0;34m(self)\u001b[0m\n\u001b[1;32m    <a href='file:///Users/fransdeboer/Projects/CS4245/models_wgan/wgan_gp.py?line=263'>264</a>\u001b[0m \u001b[39mif\u001b[39;00m epoch \u001b[39m%\u001b[39m \u001b[39mself\u001b[39m\u001b[39m.\u001b[39msave_checkpoint_every \u001b[39m==\u001b[39m \u001b[39m0\u001b[39m:\n\u001b[1;32m    <a href='file:///Users/fransdeboer/Projects/CS4245/models_wgan/wgan_gp.py?line=264'>265</a>\u001b[0m     \u001b[39mprint\u001b[39m(\u001b[39m'\u001b[39m\u001b[39m-> Saving model checkpoint\u001b[39m\u001b[39m'\u001b[39m)\n\u001b[0;32m--> <a href='file:///Users/fransdeboer/Projects/CS4245/models_wgan/wgan_gp.py?line=265'>266</a>\u001b[0m     \u001b[39mself\u001b[39;49m\u001b[39m.\u001b[39;49msaving\u001b[39m.\u001b[39;49msave_model_checkpoint(epoch)\n\u001b[1;32m    <a href='file:///Users/fransdeboer/Projects/CS4245/models_wgan/wgan_gp.py?line=267'>268</a>\u001b[0m \u001b[39mif\u001b[39;00m epoch \u001b[39m%\u001b[39m \u001b[39mself\u001b[39m\u001b[39m.\u001b[39msave_image_every \u001b[39m==\u001b[39m \u001b[39m0\u001b[39m:\n\u001b[1;32m    <a href='file:///Users/fransdeboer/Projects/CS4245/models_wgan/wgan_gp.py?line=268'>269</a>\u001b[0m     \u001b[39mprint\u001b[39m(\u001b[39m'\u001b[39m\u001b[39m-> Saving model images\u001b[39m\u001b[39m'\u001b[39m)\n",
      "File \u001b[0;32m~/Projects/CS4245/utils/utils.py:29\u001b[0m, in \u001b[0;36mSaveModel.save_model_checkpoint\u001b[0;34m(self, epoch)\u001b[0m\n\u001b[1;32m     <a href='file:///Users/fransdeboer/Projects/CS4245/utils/utils.py?line=27'>28</a>\u001b[0m \u001b[39mdef\u001b[39;00m \u001b[39msave_model_checkpoint\u001b[39m(\u001b[39mself\u001b[39m, epoch: \u001b[39mint\u001b[39m) \u001b[39m-\u001b[39m\u001b[39m>\u001b[39m \u001b[39mNone\u001b[39;00m:\n\u001b[0;32m---> <a href='file:///Users/fransdeboer/Projects/CS4245/utils/utils.py?line=28'>29</a>\u001b[0m     \u001b[39mself\u001b[39;49m\u001b[39m.\u001b[39;49mmake_epoch_directories(epoch)\n\u001b[1;32m     <a href='file:///Users/fransdeboer/Projects/CS4245/utils/utils.py?line=29'>30</a>\u001b[0m     checkpoint_path \u001b[39m=\u001b[39m \u001b[39mf\u001b[39m\u001b[39m'\u001b[39m\u001b[39m{\u001b[39;00m\u001b[39mself\u001b[39m\u001b[39m.\u001b[39mfull_path\u001b[39m}\u001b[39;00m\u001b[39m/\u001b[39m\u001b[39m{\u001b[39;00mepoch\u001b[39m}\u001b[39;00m\u001b[39m'\u001b[39m\n\u001b[1;32m     <a href='file:///Users/fransdeboer/Projects/CS4245/utils/utils.py?line=30'>31</a>\u001b[0m     th\u001b[39m.\u001b[39msave({\n\u001b[1;32m     <a href='file:///Users/fransdeboer/Projects/CS4245/utils/utils.py?line=31'>32</a>\u001b[0m         \u001b[39m'\u001b[39m\u001b[39mepoch\u001b[39m\u001b[39m'\u001b[39m: epoch,\n\u001b[1;32m     <a href='file:///Users/fransdeboer/Projects/CS4245/utils/utils.py?line=32'>33</a>\u001b[0m         \u001b[39m'\u001b[39m\u001b[39mgenerator_model_state_dict\u001b[39m\u001b[39m'\u001b[39m: \u001b[39mself\u001b[39m\u001b[39m.\u001b[39mgenerator\u001b[39m.\u001b[39mstate_dict(),\n\u001b[0;32m   (...)\u001b[0m\n\u001b[1;32m     <a href='file:///Users/fransdeboer/Projects/CS4245/utils/utils.py?line=35'>36</a>\u001b[0m         \u001b[39m'\u001b[39m\u001b[39mdiscriminator_optimizer_state_dict\u001b[39m\u001b[39m'\u001b[39m: \u001b[39mself\u001b[39m\u001b[39m.\u001b[39mdiscriminator_optimizer\u001b[39m.\u001b[39mstate_dict(),\n\u001b[1;32m     <a href='file:///Users/fransdeboer/Projects/CS4245/utils/utils.py?line=36'>37</a>\u001b[0m     }, \u001b[39mf\u001b[39m\u001b[39m'\u001b[39m\u001b[39m{\u001b[39;00mcheckpoint_path\u001b[39m}\u001b[39;00m\u001b[39m/checkpoint.th\u001b[39m\u001b[39m'\u001b[39m)\n",
      "File \u001b[0;32m~/Projects/CS4245/utils/utils.py:70\u001b[0m, in \u001b[0;36mSaveModel.make_epoch_directories\u001b[0;34m(self, epoch)\u001b[0m\n\u001b[1;32m     <a href='file:///Users/fransdeboer/Projects/CS4245/utils/utils.py?line=67'>68</a>\u001b[0m epoch_path \u001b[39m=\u001b[39m \u001b[39mf\u001b[39m\u001b[39m'\u001b[39m\u001b[39m{\u001b[39;00m\u001b[39mself\u001b[39m\u001b[39m.\u001b[39mfull_path\u001b[39m}\u001b[39;00m\u001b[39m/\u001b[39m\u001b[39m{\u001b[39;00mepoch\u001b[39m}\u001b[39;00m\u001b[39m'\u001b[39m\n\u001b[1;32m     <a href='file:///Users/fransdeboer/Projects/CS4245/utils/utils.py?line=68'>69</a>\u001b[0m \u001b[39mif\u001b[39;00m \u001b[39mnot\u001b[39;00m os\u001b[39m.\u001b[39mpath\u001b[39m.\u001b[39misdir(epoch_path):\n\u001b[0;32m---> <a href='file:///Users/fransdeboer/Projects/CS4245/utils/utils.py?line=69'>70</a>\u001b[0m     os\u001b[39m.\u001b[39;49mmkdir(epoch_path)\n",
      "\u001b[0;31mFileNotFoundError\u001b[0m: [Errno 2] No such file or directory: './results/v1.5/0'"
     ]
    }
   ],
   "source": [
    "import torch as th\n",
    "import torchvision\n",
    "from torch.utils.data import DataLoader\n",
    "\n",
    "from models import Generator, Discriminator\n",
    "import models_wgan.wgan_gp as wgan_gp\n",
    "from utils import weights_init\n",
    "from experiments import Experiment\n",
    "\n",
    "# create device\n",
    "device = th.device('cuda' if th.cuda.is_available() else 'cpu')\n",
    "\n",
    "# create dataset\n",
    "transform = torchvision.transforms.Compose([torchvision.transforms.ToTensor(),])\n",
    "dataset = torchvision.datasets.ImageFolder(config['data_directory'], transform=transform)\n",
    "dataloader = DataLoader(dataset, batch_size=config['batch_size'], shuffle=True, num_workers=config['num_workers'])\n",
    "\n",
    "if config['model_name'] == 'dcgan':\n",
    "    # create networks\n",
    "    generator = Generator(config['noise_size'],config['generator_feature_map_depth']).to(device)\n",
    "    discriminator = Discriminator(config['discriminator_feature_map_depth']).to(device)\n",
    "    generator.apply(weights_init)\n",
    "    discriminator.apply(weights_init)\n",
    "\n",
    "    # create optimizers\n",
    "    discriminator_optimizer = th.optim.Adam(discriminator.parameters(), lr=config['discriminator_lr'], betas=config['discriminator_betas'])\n",
    "    generator_optimizer = th.optim.Adam(generator.parameters(), lr=config['generator_lr'], betas=config['generator_betas'])\n",
    "\n",
    "    # create loss\n",
    "    criterion = th.nn.BCELoss()\n",
    "    # create experiment\n",
    "    experiment = Experiment(config, generator, discriminator, generator_optimizer, discriminator_optimizer, criterion, dataloader)\n",
    "    print('Training dcgan')\n",
    "    experiment.train()\n",
    "\n",
    "\n",
    "# elif config['model_name'] == 'dcgan-data-aug':\n",
    "#\n",
    "# elif config['model_name'] == 'wgan':\n",
    "#\n",
    "elif config['model_name'] == 'wgan-gp':\n",
    "    # create networks\n",
    "    generator = wgan_gp.Generator(config[\"noise_size\"], config[\"generator_feature_map_depth\"]).to(device)\n",
    "    critic = wgan_gp.Critic(config[\"discriminator_feature_map_depth\"]).to(device)\n",
    "    generator.apply(weights_init)\n",
    "    critic.apply(weights_init)\n",
    "\n",
    "    # create optimizers\n",
    "    # Optimizer (WGAN uses RMSprop, WGAN-GP uses Adam)\n",
    "    critic_optimizer = th.optim.Adam(critic.parameters(), lr=config[\"wgan_gp_lr\"], betas=config[\"wgan_gp_betas\"])\n",
    "    generator_optimizer = th.optim.Adam(generator.parameters(), lr=config[\"wgan_gp_lr\"], betas=config[\"wgan_gp_betas\"])\n",
    "\n",
    "    generator.train()\n",
    "    critic.train()\n",
    "    criterion = None\n",
    "\n",
    "    experiment = wgan_gp.Training(generator, critic, generator_optimizer, critic_optimizer, device, dataloader, config)\n",
    "    experiment.train()\n",
    "\n",
    "# elif config['model_name'] == 'wgan-gp-data-aug':\n",
    "\n",
    "\n"
   ]
  }
 ],
 "metadata": {
  "interpreter": {
   "hash": "17f5ea6f44959d3e14a0023402df6111059cc6a22e6f41b4a22d1b177e49012d"
  },
  "kernelspec": {
   "display_name": "Python 3.9.6 ('venv': venv)",
   "language": "python",
   "name": "python3"
  },
  "language_info": {
   "codemirror_mode": {
    "name": "ipython",
    "version": 3
   },
   "file_extension": ".py",
   "mimetype": "text/x-python",
   "name": "python",
   "nbconvert_exporter": "python",
   "pygments_lexer": "ipython3",
   "version": "3.9.6"
  }
 },
 "nbformat": 4,
 "nbformat_minor": 4
}
