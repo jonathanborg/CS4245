{
 "cells": [
  {
   "cell_type": "markdown",
   "metadata": {},
   "source": [
    "# Package Setup and Initialization\n",
    "Import all required libraries"
   ]
  },
  {
   "cell_type": "code",
   "execution_count": null,
   "metadata": {},
   "outputs": [],
   "source": [
    "import torch as th\n",
    "import torchvision\n",
    "from torch.utils.data import DataLoader\n",
    "\n",
    "import os\n",
    "import matplotlib.pyplot as plt\n",
    "import torchvision.utils as vutils\n",
    "import numpy as np"
   ]
  },
  {
   "cell_type": "markdown",
   "metadata": {},
   "source": [
    "# Setup configuration"
   ]
  },
  {
   "cell_type": "code",
   "execution_count": null,
   "metadata": {},
   "outputs": [],
   "source": [
    "# Network\n",
    "NOISE_SIZE = 100\n",
    "NOISE_TYPE = 'normal' \n",
    "DISCRIMINATOR_FEATURE_MAP_DEPTH = 64\n",
    "GENERATOR_FEATURE_MAP_DEPTH = 64\n",
    "\n",
    "# Training \n",
    "SAVE_CHECKPOINT_EVERY = 10 \n",
    "SAVE_IMAGE_EVERY = 10\n",
    "BATCH_SIZE = 64\n",
    "EPOCHS = 1000\n",
    "DISCRIMINATOR_LR = 5e-5"
   ]
  }
 ],
 "metadata": {
  "interpreter": {
   "hash": "6853eb78d14ae058e2a7b2c6fddb32b5922be5f1ff2f6f33e20f15970a87fbdb"
  },
  "kernelspec": {
   "display_name": "Python 3.9.0 64-bit",
   "language": "python",
   "name": "python3"
  },
  "language_info": {
   "name": "python",
   "version": "3.9.0"
  },
  "orig_nbformat": 4
 },
 "nbformat": 4,
 "nbformat_minor": 2
}
