{
 "cells": [
  {
   "cell_type": "markdown",
   "id": "2ed076ef",
   "metadata": {
    "papermill": {
     "duration": 0.011255,
     "end_time": "2022-05-27T15:38:27.361016",
     "exception": false,
     "start_time": "2022-05-27T15:38:27.349761",
     "status": "completed"
    },
    "tags": []
   },
   "source": [
    "# Package Setup and Initialization\n",
    "Import all required libraries"
   ]
  },
  {
   "cell_type": "code",
   "execution_count": 1,
   "id": "0977b08d",
   "metadata": {
    "execution": {
     "iopub.execute_input": "2022-05-27T15:38:27.382211Z",
     "iopub.status.busy": "2022-05-27T15:38:27.381845Z",
     "iopub.status.idle": "2022-05-27T15:38:29.342010Z",
     "shell.execute_reply": "2022-05-27T15:38:29.341295Z"
    },
    "papermill": {
     "duration": 1.973485,
     "end_time": "2022-05-27T15:38:29.344542",
     "exception": false,
     "start_time": "2022-05-27T15:38:27.371057",
     "status": "completed"
    },
    "tags": []
   },
   "outputs": [],
   "source": [
    "import torch as th\n",
    "import torchvision\n",
    "from torch.utils.data import DataLoader\n",
    "\n",
    "import os\n",
    "import matplotlib.pyplot as plt\n",
    "import torchvision.utils as vutils\n",
    "import numpy as np"
   ]
  },
  {
   "cell_type": "markdown",
   "id": "4e876f78",
   "metadata": {
    "papermill": {
     "duration": 0.009773,
     "end_time": "2022-05-27T15:38:29.364461",
     "exception": false,
     "start_time": "2022-05-27T15:38:29.354688",
     "status": "completed"
    },
    "tags": []
   },
   "source": [
    "# Setup configuration\n",
    "Setup hyperparameters for the network to use"
   ]
  },
  {
   "cell_type": "code",
   "execution_count": 2,
   "id": "5b6e3d03",
   "metadata": {
    "execution": {
     "iopub.execute_input": "2022-05-27T15:38:29.385193Z",
     "iopub.status.busy": "2022-05-27T15:38:29.384957Z",
     "iopub.status.idle": "2022-05-27T15:38:29.390827Z",
     "shell.execute_reply": "2022-05-27T15:38:29.390105Z"
    },
    "papermill": {
     "duration": 0.018261,
     "end_time": "2022-05-27T15:38:29.392552",
     "exception": false,
     "start_time": "2022-05-27T15:38:29.374291",
     "status": "completed"
    },
    "tags": []
   },
   "outputs": [],
   "source": [
    "# Network\n",
    "NOISE_SIZE = 100\n",
    "NOISE_TYPE = 'normal' \n",
    "CRITIC_FEATURE_MAP_DEPTH = 64               # in WGAN the Discriminator is called the Critic\n",
    "GENERATOR_FEATURE_MAP_DEPTH = 64\n",
    "\n",
    "# Training \n",
    "SAVE_CHECKPOINT_EVERY = 10 \n",
    "SAVE_IMAGE_EVERY = 10\n",
    "BATCH_SIZE = 64\n",
    "EPOCHS = 50\n",
    "DISCRIMINATOR_LR = 1e-4\n",
    "GENERATOR_LR = 1e-4\n",
    "TRUE_LABEL_VALUE = 1\n",
    "FAKE_LABEL_VALUE = 0\n",
    "\n",
    "# WGAN params\n",
    "NUM_EPOCHS = 5\n",
    "CRITIC_ITERATIONS = 5\n",
    "# WEIGHT_CLIP = 0.1\n",
    "\n",
    "# WGAN-GP params\n",
    "LAMBDA_GP = 10\n",
    "\n",
    "# Version nr\n",
    "VERSION = 18"
   ]
  },
  {
   "cell_type": "markdown",
   "id": "19451e41",
   "metadata": {
    "papermill": {
     "duration": 0.009372,
     "end_time": "2022-05-27T15:38:29.411735",
     "exception": false,
     "start_time": "2022-05-27T15:38:29.402363",
     "status": "completed"
    },
    "tags": []
   },
   "source": [
    "# Setup device and data"
   ]
  },
  {
   "cell_type": "code",
   "execution_count": 3,
   "id": "6503f9c1",
   "metadata": {
    "execution": {
     "iopub.execute_input": "2022-05-27T15:38:29.431915Z",
     "iopub.status.busy": "2022-05-27T15:38:29.431713Z",
     "iopub.status.idle": "2022-05-27T15:38:41.300505Z",
     "shell.execute_reply": "2022-05-27T15:38:41.299801Z"
    },
    "papermill": {
     "duration": 11.881371,
     "end_time": "2022-05-27T15:38:41.302547",
     "exception": false,
     "start_time": "2022-05-27T15:38:29.421176",
     "status": "completed"
    },
    "tags": []
   },
   "outputs": [],
   "source": [
    "# Device\n",
    "device = th.device('cuda' if th.cuda.is_available() else 'cpu')\n",
    "\n",
    "# Dataset\n",
    "transform = torchvision.transforms.Compose([\n",
    "    torchvision.transforms.ToTensor(),\n",
    "])\n",
    "\n",
    "data_directory = \"/kaggle/input/\"\n",
    "dataset = torchvision.datasets.ImageFolder(data_directory, transform=transform)\n",
    "\n",
    "dataloader = DataLoader(dataset, batch_size=BATCH_SIZE, shuffle=True)"
   ]
  },
  {
   "cell_type": "markdown",
   "id": "12fd5547",
   "metadata": {
    "papermill": {
     "duration": 0.009686,
     "end_time": "2022-05-27T15:38:41.322250",
     "exception": false,
     "start_time": "2022-05-27T15:38:41.312564",
     "status": "completed"
    },
    "tags": []
   },
   "source": [
    "# Network\n",
    "Critic (Discriminator) and Generator\n",
    "Note that the Critic in WGAN doest not have a sigmoid activation function in its last layer as opposed to the DCGAN variant. "
   ]
  },
  {
   "cell_type": "code",
   "execution_count": 4,
   "id": "4fb69029",
   "metadata": {
    "execution": {
     "iopub.execute_input": "2022-05-27T15:38:41.343001Z",
     "iopub.status.busy": "2022-05-27T15:38:41.342789Z",
     "iopub.status.idle": "2022-05-27T15:38:41.362143Z",
     "shell.execute_reply": "2022-05-27T15:38:41.361356Z"
    },
    "papermill": {
     "duration": 0.032277,
     "end_time": "2022-05-27T15:38:41.364211",
     "exception": false,
     "start_time": "2022-05-27T15:38:41.331934",
     "status": "completed"
    },
    "tags": []
   },
   "outputs": [],
   "source": [
    "# DISCRIMINATOR\n",
    "class CriticBlock(th.nn.Module):\n",
    "    def __init__(self, in_channels: int, out_channels: int, first: bool = False, last: bool = False) -> None:\n",
    "        assert(not (first and last)) # block can't be both first and last\n",
    "        super().__init__()\n",
    "        if first:\n",
    "            self.main = th.nn.Sequential(\n",
    "                th.nn.Conv2d(in_channels, out_channels, 4, 2, 1, bias=False),\n",
    "                th.nn.LeakyReLU(0.2, inplace=True),\n",
    "            )\n",
    "            \n",
    "        elif last:\n",
    "            self.main = th.nn.Sequential(\n",
    "                th.nn.Conv2d(in_channels, out_channels, 3, 1, 0, bias=False),\n",
    "                # No Sigmoid activation in WGAN in last layer\n",
    "            )\n",
    "\n",
    "        else:\n",
    "            self.main = th.nn.Sequential(\n",
    "                th.nn.Conv2d(in_channels, out_channels, 4, 2, 1, bias=False),\n",
    "                th.nn.InstanceNorm2d(out_channels, affine=True), # WGAN-GP does not use BatchNorm for the Critic (LayerNorm or InstanceNorm)\n",
    "                th.nn.LeakyReLU(0.2, inplace=True),\n",
    "            )\n",
    "\n",
    "    def forward(self, x: th.Tensor) -> th.Tensor:\n",
    "        return self.main(x)\n",
    "\n",
    "class Critic(th.nn.Module):\n",
    "    def __init__(self, feature_map_depth: int) -> None:\n",
    "        super().__init__()\n",
    "        self.main = th.nn.Sequential(\n",
    "            CriticBlock(3, feature_map_depth, first=True),\n",
    "            CriticBlock(feature_map_depth, feature_map_depth * 2),\n",
    "            CriticBlock(feature_map_depth * 2, feature_map_depth * 4),\n",
    "            CriticBlock(feature_map_depth * 4, feature_map_depth * 8),\n",
    "            CriticBlock(feature_map_depth * 8, feature_map_depth * 8),\n",
    "            CriticBlock(feature_map_depth * 8, 1, last=True)\n",
    "        )\n",
    "\n",
    "    def forward(self, x: th.Tensor) -> th.Tensor:\n",
    "        x = self.main(x)\n",
    "        return x\n",
    "\n",
    "\n",
    "\n",
    "# GENERATOR\n",
    "class GeneratorBlock(th.nn.Module):\n",
    "    def __init__(self, in_channels: int, out_channels: int, first: bool = False, last: bool = False) -> None:\n",
    "        assert(not (first and last)) # block can't be both first and last\n",
    "        super().__init__()\n",
    "        if first:\n",
    "            self.main = th.nn.Sequential(\n",
    "                th.nn.ConvTranspose2d(in_channels, out_channels, 3, 1, 0, bias=False),\n",
    "                th.nn.BatchNorm2d(out_channels),\n",
    "                th.nn.ReLU(True)\n",
    "            )\n",
    "        elif last:\n",
    "            self.main = th.nn.Sequential(\n",
    "                th.nn.ConvTranspose2d(in_channels, out_channels, 4, 2, 1, bias=False),\n",
    "                th.nn.Tanh()\n",
    "            )\n",
    "        else:\n",
    "            self.main = th.nn.Sequential(\n",
    "                th.nn.ConvTranspose2d(in_channels, out_channels, 4, 2, 1, bias=False),\n",
    "                th.nn.BatchNorm2d(out_channels),\n",
    "                th.nn.ReLU(True)\n",
    "            )\n",
    "\n",
    "    def forward(self, x: th.Tensor) -> th.Tensor:\n",
    "        return self.main(x)\n",
    "\n",
    "class Generator(th.nn.Module):\n",
    "    def __init__(self, noise_size: int, feature_map_depth: int) -> None:\n",
    "        super().__init__()\n",
    "        # first layer, no stride. Upsample from 1x1 to 4x4\n",
    "        self.main = th.nn.Sequential(\n",
    "            GeneratorBlock(noise_size, feature_map_depth * 8, first=True),\n",
    "            GeneratorBlock(feature_map_depth * 8, feature_map_depth * 8),\n",
    "            GeneratorBlock(feature_map_depth * 8, feature_map_depth * 4),\n",
    "            GeneratorBlock(feature_map_depth * 4, feature_map_depth * 2),\n",
    "            GeneratorBlock(feature_map_depth * 2, feature_map_depth * 1),\n",
    "            GeneratorBlock(feature_map_depth * 1, 3, last=True),\n",
    "        )\n",
    "\n",
    "    def forward(self, x: th.Tensor) -> th.Tensor:\n",
    "        x = self.main(x)\n",
    "        return x\n"
   ]
  },
  {
   "cell_type": "markdown",
   "id": "08c01eaa",
   "metadata": {
    "papermill": {
     "duration": 0.009725,
     "end_time": "2022-05-27T15:38:41.383971",
     "exception": false,
     "start_time": "2022-05-27T15:38:41.374246",
     "status": "completed"
    },
    "tags": []
   },
   "source": [
    "# Optimizer and creating network"
   ]
  },
  {
   "cell_type": "code",
   "execution_count": 5,
   "id": "62b9272a",
   "metadata": {
    "execution": {
     "iopub.execute_input": "2022-05-27T15:38:41.404761Z",
     "iopub.status.busy": "2022-05-27T15:38:41.404454Z",
     "iopub.status.idle": "2022-05-27T15:38:44.257330Z",
     "shell.execute_reply": "2022-05-27T15:38:44.256489Z"
    },
    "papermill": {
     "duration": 2.865801,
     "end_time": "2022-05-27T15:38:44.259675",
     "exception": false,
     "start_time": "2022-05-27T15:38:41.393874",
     "status": "completed"
    },
    "tags": []
   },
   "outputs": [
    {
     "data": {
      "text/plain": [
       "Critic(\n",
       "  (main): Sequential(\n",
       "    (0): CriticBlock(\n",
       "      (main): Sequential(\n",
       "        (0): Conv2d(3, 64, kernel_size=(4, 4), stride=(2, 2), padding=(1, 1), bias=False)\n",
       "        (1): LeakyReLU(negative_slope=0.2, inplace=True)\n",
       "      )\n",
       "    )\n",
       "    (1): CriticBlock(\n",
       "      (main): Sequential(\n",
       "        (0): Conv2d(64, 128, kernel_size=(4, 4), stride=(2, 2), padding=(1, 1), bias=False)\n",
       "        (1): InstanceNorm2d(128, eps=1e-05, momentum=0.1, affine=True, track_running_stats=False)\n",
       "        (2): LeakyReLU(negative_slope=0.2, inplace=True)\n",
       "      )\n",
       "    )\n",
       "    (2): CriticBlock(\n",
       "      (main): Sequential(\n",
       "        (0): Conv2d(128, 256, kernel_size=(4, 4), stride=(2, 2), padding=(1, 1), bias=False)\n",
       "        (1): InstanceNorm2d(256, eps=1e-05, momentum=0.1, affine=True, track_running_stats=False)\n",
       "        (2): LeakyReLU(negative_slope=0.2, inplace=True)\n",
       "      )\n",
       "    )\n",
       "    (3): CriticBlock(\n",
       "      (main): Sequential(\n",
       "        (0): Conv2d(256, 512, kernel_size=(4, 4), stride=(2, 2), padding=(1, 1), bias=False)\n",
       "        (1): InstanceNorm2d(512, eps=1e-05, momentum=0.1, affine=True, track_running_stats=False)\n",
       "        (2): LeakyReLU(negative_slope=0.2, inplace=True)\n",
       "      )\n",
       "    )\n",
       "    (4): CriticBlock(\n",
       "      (main): Sequential(\n",
       "        (0): Conv2d(512, 512, kernel_size=(4, 4), stride=(2, 2), padding=(1, 1), bias=False)\n",
       "        (1): InstanceNorm2d(512, eps=1e-05, momentum=0.1, affine=True, track_running_stats=False)\n",
       "        (2): LeakyReLU(negative_slope=0.2, inplace=True)\n",
       "      )\n",
       "    )\n",
       "    (5): CriticBlock(\n",
       "      (main): Sequential(\n",
       "        (0): Conv2d(512, 1, kernel_size=(3, 3), stride=(1, 1), bias=False)\n",
       "      )\n",
       "    )\n",
       "  )\n",
       ")"
      ]
     },
     "execution_count": 5,
     "metadata": {},
     "output_type": "execute_result"
    }
   ],
   "source": [
    "# Initialize weights\n",
    "def weights_init(model):\n",
    "    classname = model.__class__.__name__\n",
    "    if classname.find('Conv') != -1:\n",
    "        th.nn.init.normal_(model.weight.data, 0.0, 0.02)\n",
    "    elif classname.find('BatchNorm') != -1:\n",
    "        th.nn.init.normal_(model.weight.data, 1.0, 0.02)\n",
    "        th.nn.init.constant_(model.bias.data, 0)\n",
    "\n",
    "\n",
    "# Create network\n",
    "generator = Generator(NOISE_SIZE, GENERATOR_FEATURE_MAP_DEPTH).to(device)\n",
    "generator.apply(weights_init)\n",
    "\n",
    "critic = Critic(CRITIC_FEATURE_MAP_DEPTH).to(device)\n",
    "critic.apply(weights_init)\n",
    "\n",
    "# Optimizer (WGAN uses RMSprop, WGAN-GP uses Adam)\n",
    "critic_optimizer = th.optim.Adam(critic.parameters(), lr=DISCRIMINATOR_LR, betas=(0.0, 0.9))\n",
    "generator_optimizer = th.optim.Adam(generator.parameters(), lr=GENERATOR_LR, betas=(0.0, 0.9))\n",
    "\n",
    "generator.train()\n",
    "critic.train()"
   ]
  },
  {
   "cell_type": "markdown",
   "id": "83b3d089",
   "metadata": {
    "papermill": {
     "duration": 0.011015,
     "end_time": "2022-05-27T15:38:44.282088",
     "exception": false,
     "start_time": "2022-05-27T15:38:44.271073",
     "status": "completed"
    },
    "tags": []
   },
   "source": [
    "# Utility functions"
   ]
  },
  {
   "cell_type": "code",
   "execution_count": 6,
   "id": "3ccda8c5",
   "metadata": {
    "execution": {
     "iopub.execute_input": "2022-05-27T15:38:44.306198Z",
     "iopub.status.busy": "2022-05-27T15:38:44.305990Z",
     "iopub.status.idle": "2022-05-27T15:38:44.318125Z",
     "shell.execute_reply": "2022-05-27T15:38:44.317499Z"
    },
    "papermill": {
     "duration": 0.025126,
     "end_time": "2022-05-27T15:38:44.319721",
     "exception": false,
     "start_time": "2022-05-27T15:38:44.294595",
     "status": "completed"
    },
    "tags": []
   },
   "outputs": [],
   "source": [
    "# Constants\n",
    "# results_path = \"kaggle\"\n",
    "# experiment_name = \"working\"\n",
    "FULL_PATH = f'output'\n",
    "fixed_noise = th.randn(64, NOISE_SIZE, 1, 1, device=device)\n",
    "\n",
    "# Create output folder if it doesn't exist yet\n",
    "if not os.path.isdir('output'): \n",
    "    os.mkdir('output')\n",
    "\n",
    "# Utility functions\n",
    "def save_model_checkpoint(epoch: int) -> None:\n",
    "    make_epoch_directories(epoch)\n",
    "    checkpoint_path = f'{FULL_PATH}/{epoch}'\n",
    "    th.save({\n",
    "        'epoch': epoch,\n",
    "        'generator_model_state_dict': generator.state_dict(),\n",
    "        'discriminator_model_state_dict': critic.state_dict(),\n",
    "        'generator_optimizer_state_dict': generator_optimizer.state_dict(),\n",
    "        'discriminator_optimizer_state_dict': critic_optimizer.state_dict(),\n",
    "    }, f'{checkpoint_path}/checkpoint.th')\n",
    "\n",
    "\n",
    "def make_epoch_directories(epoch: int) -> None:\n",
    "    epoch_path = f'{FULL_PATH}/{epoch}'\n",
    "    if not os.path.isdir(epoch_path):\n",
    "        os.mkdir(epoch_path)\n",
    "\n",
    "\n",
    "def save_model_image(epoch: int) -> None:\n",
    "    make_epoch_directories(epoch)\n",
    "    image_path = f'{FULL_PATH}/{epoch}/images'\n",
    "    if not os.path.isdir(image_path):\n",
    "        os.mkdir(image_path)\n",
    "    random_noise = th.randn(64, NOISE_SIZE, 1, 1, device=device)\n",
    "    fixed_fakes = generator(fixed_noise).detach().cpu()\n",
    "    random_fakes = generator(random_noise).detach().cpu()\n",
    "    save_image_grid(fixed_fakes, f'{image_path}/fixed.png', 'Fixed Noise')\n",
    "    save_image_grid(random_fakes, f'{image_path}/random.png', 'Random Noise')\n",
    "\n",
    "\n",
    "def save_image_grid(images, path: str, title: str) -> None:\n",
    "    plt.figure(figsize=(8,8))\n",
    "    plt.axis('off')\n",
    "    plt.title(title)\n",
    "    plt.imshow(np.transpose(vutils.make_grid(images.to(device)[:64], padding=2, normalize=True).cpu(), (1, 2, 0)))\n",
    "    plt.savefig(path)\n",
    "    plt.close()"
   ]
  },
  {
   "cell_type": "markdown",
   "id": "f2ed3eac",
   "metadata": {
    "papermill": {
     "duration": 0.010396,
     "end_time": "2022-05-27T15:38:44.340852",
     "exception": false,
     "start_time": "2022-05-27T15:38:44.330456",
     "status": "completed"
    },
    "tags": []
   },
   "source": [
    "# Training loop\n",
    "Main training loop. Note that we use the algorithm outlined in the WGAN paper. So in this case the Critic is updated more frequently (5x) and we use the Loss Function descrbied in the paper (and other resources online see: https://machinelearningmastery.com/how-to-implement-wasserstein-loss-for-generative-adversarial-networks/) \n",
    "\n",
    "From this blogpost:\n",
    "    Critic Loss = [average critic score on real images] – [average critic score on fake images]\n",
    "    Generator Loss = -[average critic score on fake images]\n"
   ]
  },
  {
   "cell_type": "code",
   "execution_count": 7,
   "id": "8fc6fb65",
   "metadata": {
    "execution": {
     "iopub.execute_input": "2022-05-27T15:38:44.363295Z",
     "iopub.status.busy": "2022-05-27T15:38:44.362758Z",
     "iopub.status.idle": "2022-05-28T00:09:12.504041Z",
     "shell.execute_reply": "2022-05-28T00:09:12.503326Z"
    },
    "papermill": {
     "duration": 30628.154905,
     "end_time": "2022-05-28T00:09:12.506223",
     "exception": false,
     "start_time": "2022-05-27T15:38:44.351318",
     "status": "completed"
    },
    "tags": []
   },
   "outputs": [
    {
     "name": "stdout",
     "output_type": "stream",
     "text": [
      "VERSION: 18\n",
      "EPOCH:  0\n",
      "-> Saving model checkpoint\n",
      "-> Saving model images\n",
      "EPOCH:  1\n",
      "EPOCH:  2\n",
      "EPOCH:  3\n",
      "EPOCH:  4\n",
      "EPOCH:  5\n",
      "EPOCH:  6\n",
      "EPOCH:  7\n",
      "EPOCH:  8\n",
      "EPOCH:  9\n",
      "EPOCH:  10\n",
      "-> Saving model checkpoint\n",
      "-> Saving model images\n",
      "EPOCH:  11\n",
      "EPOCH:  12\n",
      "EPOCH:  13\n",
      "EPOCH:  14\n",
      "EPOCH:  15\n",
      "EPOCH:  16\n",
      "EPOCH:  17\n",
      "EPOCH:  18\n",
      "EPOCH:  19\n",
      "EPOCH:  20\n",
      "-> Saving model checkpoint\n",
      "-> Saving model images\n",
      "EPOCH:  21\n",
      "EPOCH:  22\n",
      "EPOCH:  23\n",
      "EPOCH:  24\n",
      "EPOCH:  25\n",
      "EPOCH:  26\n",
      "EPOCH:  27\n",
      "EPOCH:  28\n",
      "EPOCH:  29\n",
      "EPOCH:  30\n",
      "-> Saving model checkpoint\n",
      "-> Saving model images\n",
      "EPOCH:  31\n",
      "EPOCH:  32\n",
      "EPOCH:  33\n",
      "EPOCH:  34\n",
      "EPOCH:  35\n",
      "EPOCH:  36\n",
      "EPOCH:  37\n",
      "EPOCH:  38\n",
      "EPOCH:  39\n",
      "EPOCH:  40\n",
      "-> Saving model checkpoint\n",
      "-> Saving model images\n",
      "EPOCH:  41\n",
      "EPOCH:  42\n",
      "EPOCH:  43\n",
      "EPOCH:  44\n",
      "EPOCH:  45\n",
      "EPOCH:  46\n",
      "EPOCH:  47\n",
      "EPOCH:  48\n",
      "EPOCH:  49\n",
      "EPOCH:  50\n",
      "-> Saving model checkpoint\n",
      "-> Saving model images\n"
     ]
    }
   ],
   "source": [
    "# GRADIENT PENALTY (WGAN-GP)\n",
    "def gradient_penalty(critic, real, fake, device=\"cpu\"):\n",
    "    # Create interpolated image\n",
    "    BATCH_SIZE, C, H, W = real.shape\n",
    "    alpha = th.rand((BATCH_SIZE, 1, 1, 1)).repeat(1, C, H, W).to(device)\n",
    "    interpolated_images = real * alpha + fake * (1 - alpha)\n",
    "\n",
    "    # Critic score of interpolated image\n",
    "    mixed_scores = critic(interpolated_images)\n",
    "    \n",
    "    # Take gradients of scores with respect to the interpolated images\n",
    "    gradient = th.autograd.grad(\n",
    "        inputs=interpolated_images,\n",
    "        outputs=mixed_scores,\n",
    "        grad_outputs=th.ones_like(mixed_scores),\n",
    "        create_graph=True,\n",
    "        retain_graph=True\n",
    "    )[0]\n",
    "    \n",
    "    gradient = gradient.view(gradient.shape[0], -1)\n",
    "    gradient_norm = gradient.norm(2, dim=1)\n",
    "    gradient_penalty = th.mean((gradient_norm - 1) ** 2)\n",
    "    return gradient_penalty\n",
    "    \n",
    "    \n",
    "\n",
    "# MAIN TRAINING LOOP\n",
    "print(\"VERSION:\", VERSION)\n",
    "for epoch in range(EPOCHS + 1):\n",
    "    print('EPOCH: ', epoch)\n",
    "\n",
    "    for batch_idx, (real, _) in enumerate(dataloader):\n",
    "        real = real.to(device)\n",
    "        batch_size = real.size(0)\n",
    "        \n",
    "        # TRAIN DISCRIMINATOR (CRITIC) MORE. (5x according to paper)\n",
    "        for _ in range(CRITIC_ITERATIONS):\n",
    "            noise = th.randn(batch_size, NOISE_SIZE, 1, 1, device=device)\n",
    "            fake = generator(noise)\n",
    "            \n",
    "            critic_fake = critic(fake).reshape(-1)\n",
    "    \n",
    "            critic_real = critic(real).reshape(-1)\n",
    "            \n",
    "            gp = gradient_penalty(critic, real, fake, device=device)\n",
    "            \n",
    "            # extra '-' because originally we want to maximize, so we minimize the negative.\n",
    "            # LAMDA_GP * gp is the addition for WGAN-GP\n",
    "            loss_critic = -(th.mean(critic_real) - th.mean(critic_fake)) + LAMBDA_GP * gp\n",
    "            \n",
    "            critic.zero_grad()\n",
    "            loss_critic.backward(retain_graph=True)\n",
    "            critic_optimizer.step()\n",
    "            \n",
    "        \n",
    "        # TRAIN GENERATOR \n",
    "        output = critic(fake).reshape(-1)\n",
    "        loss_generator = -th.mean(output)\n",
    "        generator.zero_grad() \n",
    "        loss_generator.backward()\n",
    "        generator_optimizer.step()\n",
    "\n",
    "\n",
    "    # SAVE MODEL AND IMAGES\n",
    "    if epoch % SAVE_CHECKPOINT_EVERY == 0:\n",
    "        print('-> Saving model checkpoint')\n",
    "        save_model_checkpoint(epoch)\n",
    "    \n",
    "    if epoch % SAVE_IMAGE_EVERY == 0:\n",
    "        print('-> Saving model images')\n",
    "        save_model_image(epoch)"
   ]
  }
 ],
 "metadata": {
  "kernelspec": {
   "display_name": "Python 3",
   "language": "python",
   "name": "python3"
  },
  "language_info": {
   "codemirror_mode": {
    "name": "ipython",
    "version": 3
   },
   "file_extension": ".py",
   "mimetype": "text/x-python",
   "name": "python",
   "nbconvert_exporter": "python",
   "pygments_lexer": "ipython3",
   "version": "3.7.12"
  },
  "papermill": {
   "default_parameters": {},
   "duration": 30655.570206,
   "end_time": "2022-05-28T00:09:14.676317",
   "environment_variables": {},
   "exception": null,
   "input_path": "__notebook__.ipynb",
   "output_path": "__notebook__.ipynb",
   "parameters": {},
   "start_time": "2022-05-27T15:38:19.106111",
   "version": "2.3.4"
  }
 },
 "nbformat": 4,
 "nbformat_minor": 5
}